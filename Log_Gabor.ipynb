{
  "nbformat": 4,
  "nbformat_minor": 0,
  "metadata": {
    "colab": {
      "provenance": [],
      "mount_file_id": "1jVBu41n6uYoLhVCHS_hM_LlkkYGBc5KS",
      "authorship_tag": "ABX9TyMn3UDYfhL56lUFfekE4HkE",
      "include_colab_link": true
    },
    "kernelspec": {
      "name": "python3",
      "display_name": "Python 3"
    },
    "language_info": {
      "name": "python"
    }
  },
  "cells": [
    {
      "cell_type": "markdown",
      "metadata": {
        "id": "view-in-github",
        "colab_type": "text"
      },
      "source": [
        "<a href=\"https://colab.research.google.com/github/menglin874/BITM/blob/main/Log_Gabor.ipynb\" target=\"_parent\"><img src=\"https://colab.research.google.com/assets/colab-badge.svg\" alt=\"Open In Colab\"/></a>"
      ]
    },
    {
      "cell_type": "code",
      "execution_count": null,
      "metadata": {
        "id": "IfPuandMUDxb"
      },
      "outputs": [],
      "source": [
        "import matplotlib.pyplot as plt\n",
        "import numpy as np\n",
        "from scipy import ndimage as ndi\n",
        "from skimage import data\n",
        "from skimage.util import img_as_float\n",
        "from skimage.filters import gabor_kernel\n",
        "import math\n",
        "import cv2,os\n"
      ]
    },
    {
      "cell_type": "code",
      "source": [
        "pip install LogGabor"
      ],
      "metadata": {
        "id": "4kLyTq9zUsp9"
      },
      "execution_count": null,
      "outputs": []
    },
    {
      "cell_type": "markdown",
      "source": [
        "Input image"
      ],
      "metadata": {
        "id": "G3tQtE9waUGg"
      }
    },
    {
      "cell_type": "code",
      "source": [
        "from LogGabor import imread\n",
        "image = imread('/content/drive/MyDrive/outputs/covidlung.jpg')\n",
        "\n",
        "shrink = (slice(0, None, 1), slice(0, None, 1))\n",
        "covid = img_as_float(image)[shrink] #(624, 628)\n",
        "print(covid.shape)\n",
        "cov = covid.reshape(128,128)\n",
        "\n",
        "plt.imshow(covid, cmap = 'gray')\n",
        "plt.title(\"covid image orginale\")\n",
        "plt.show()"
      ],
      "metadata": {
        "id": "j2Cc1geraTML"
      },
      "execution_count": null,
      "outputs": []
    },
    {
      "cell_type": "markdown",
      "source": [
        "Log-Gabor filter"
      ],
      "metadata": {
        "id": "6VN4v2N3Zdzi"
      }
    },
    {
      "cell_type": "code",
      "source": [
        "number_scales = 4          # scale resolution\n",
        "number_orientations = 6    # orientation resolution\n",
        "N = 128                 # image dimensions\n",
        "def getFilter(f_0, theta_0):\n",
        "    # filter configuration\n",
        "    scale_bandwidth =  0.996 * math.sqrt(2/3)\n",
        "    angle_bandwidth =  0.996 * (1/math.sqrt(2)) * (np.pi/number_orientations)\n",
        "\n",
        "    # x,y grid\n",
        "    extent = np.arange(-N/2, N/2 + N%2)\n",
        "    x, y = np.meshgrid(extent,extent)\n",
        "\n",
        "    mid = int(N/2)\n",
        "    ## orientation component ##\n",
        "    theta = np.arctan2(y,x)\n",
        "    center_angle = ((np.pi/number_orientations) * theta_0) if (f_0 % 2) \\\n",
        "                else ((np.pi/number_orientations) * (theta_0+0.5))\n",
        "\n",
        "    # calculate (theta-center_theta), we calculate cos(theta-center_theta) \n",
        "    # and sin(theta-center_theta) then use atan to get the required value,\n",
        "    # this way we can eliminate the angular distance wrap around problem\n",
        "    costheta = np.cos(theta)\n",
        "    sintheta = np.sin(theta)\n",
        "    ds = sintheta * math.cos(center_angle) - costheta * math.sin(center_angle)    \n",
        "    dc = costheta * math.cos(center_angle) + sintheta * math.sin(center_angle)  \n",
        "    dtheta = np.arctan2(ds,dc)\n",
        "\n",
        "    orientation_component =  np.exp(-0.5 * (dtheta/angle_bandwidth)**2)\n",
        "\n",
        "    ## frequency componenet ##\n",
        "    # go to polar space\n",
        "    raw = np.sqrt(x**2+y**2)\n",
        "    # set origin to 1 as in the log space zero is not defined\n",
        "    raw[mid,mid] = 1\n",
        "    # go to log space\n",
        "    raw = np.log2(raw)\n",
        "\n",
        "    center_scale = math.log2(N) - f_0\n",
        "    draw = raw-center_scale\n",
        "    frequency_component = np.exp(-0.5 * (draw/ scale_bandwidth)**2)\n",
        "\n",
        "    # reset origin to zero (not needed as it is already 0?)\n",
        "    frequency_component[mid,mid] = 0\n",
        "\n",
        "    return frequency_component * orientation_component"
      ],
      "metadata": {
        "id": "LsYd62pXUyOU"
      },
      "execution_count": null,
      "outputs": []
    },
    {
      "cell_type": "code",
      "source": [
        "def getLogGaborKernal(scale, angle, logfun=math.log2, norm = True):\n",
        "    # setup up filter configuration\n",
        "    center_scale = logfun(N) - scale          \n",
        "    center_angle = ((np.pi/number_orientations) * angle) if (scale % 2) \\\n",
        "                else ((np.pi/number_orientations) * (angle+0.5))\n",
        "    scale_bandwidth =  0.996 * math.sqrt(2/3)\n",
        "    angle_bandwidth =  0.996 * (1/math.sqrt(2)) * (np.pi/number_orientations)\n",
        "\n",
        "    # 2d array that will hold the filter\n",
        "    kernel = np.zeros((N, N))\n",
        "    # get the center of the 2d array so we can shift origin\n",
        "    middle = math.ceil((N/2)+0.1)-1\n",
        "\n",
        "    # calculate the filter\n",
        "    for x in range(0,constantDim):\n",
        "        for y in range(0,constantDim):\n",
        "            # get the transformed x and y where origin is at center\n",
        "            # and positive x-axis goes right while positive y-axis goes up\n",
        "            x_t, y_t = (x-middle),-(y-middle)\n",
        "            # calculate the filter value at given index\n",
        "            kernel[y,x] = logGaborValue(x_t,y_t,center_scale,center_angle,\n",
        "        scale_bandwidth, angle_bandwidth,logfun)\n",
        "\n",
        "    # normalize the filter energy\n",
        "    if norm:\n",
        "        Kernel = kernel / np.sum(kernel**2)\n",
        "    return kernel"
      ],
      "metadata": {
        "id": "0hyH4t-jyvCG"
      },
      "execution_count": null,
      "outputs": []
    },
    {
      "cell_type": "code",
      "source": [
        "logfilter1 = getFilter(2, np.pi)\n",
        "\n",
        "plt.imshow(logfilter1,cmap = 'gray')"
      ],
      "metadata": {
        "colab": {
          "base_uri": "https://localhost:8080/",
          "height": 285
        },
        "id": "NeXOvXlPZtTl",
        "outputId": "33c1287a-b52e-4d98-c5d4-d2104154ba0a"
      },
      "execution_count": null,
      "outputs": [
        {
          "output_type": "execute_result",
          "data": {
            "text/plain": [
              "<matplotlib.image.AxesImage at 0x7f3663833790>"
            ]
          },
          "metadata": {},
          "execution_count": 5
        },
        {
          "output_type": "display_data",
          "data": {
            "text/plain": [
              "<Figure size 432x288 with 1 Axes>"
            ],
            "image/png": "[encoded data removed]"
          },
          "metadata": {
            "needs_background": "light"
          }
        }
      ]
    },
    {
      "cell_type": "code",
      "source": [
        "logfilter2 = getFilter(2, np.pi/5)\n",
        "\n",
        "plt.imshow(logfilter2)"
      ],
      "metadata": {
        "colab": {
          "base_uri": "https://localhost:8080/",
          "height": 285
        },
        "id": "EaIbP-3IbRsf",
        "outputId": "78203ab7-629b-403f-e940-8cbf2e02ef7a"
      },
      "execution_count": null,
      "outputs": [
        {
          "output_type": "execute_result",
          "data": {
            "text/plain": [
              "<matplotlib.image.AxesImage at 0x7f36637b2550>"
            ]
          },
          "metadata": {},
          "execution_count": 6
        },
        {
          "output_type": "display_data",
          "data": {
            "text/plain": [
              "<Figure size 432x288 with 1 Axes>"
            ],
            "image/png": "[encoded data removed]"
          },
          "metadata": {
            "needs_background": "light"
          }
        }
      ]
    },
    {
      "cell_type": "code",
      "source": [
        "kernels = filters\n",
        "def compute_feats(image, kernels):#Calculating the characteristic function\n",
        "  feats = np.zeros((len(kernels), 2), dtype=np.double)\n",
        "  for k, kernel in enumerate(kernels):\n",
        "    filtered = ndi.convolve(image, kernel, mode='wrap')\n",
        "    feats[k, 0] = filtered.mean()\n",
        "    feats[k, 1] = filtered.var()\n",
        "  return feats\n",
        "#PreparationReferenceFeatures\n",
        "ref_feats = np.zeros((1, len(kernels), 2), dtype=np.double)\n",
        "ref_feats[0, :, :] = compute_feats(covid, kernels)\n",
        "#ref_feats[1, :, :] = compute_feats(grass, kernels)\n",
        "#ref_feats[2, :, :] = compute_feats(gravel, kernels)"
      ],
      "metadata": {
        "id": "7e7VexuEABDs"
      },
      "execution_count": null,
      "outputs": []
    },
    {
      "cell_type": "code",
      "source": [
        "def match(feats, ref_feats):# Matching function for calculating least square error\n",
        "  min_error = np.inf\n",
        "  min_i = None\n",
        "  for i in range(ref_feats.shape[0]):\n",
        "    error = np.sum((feats - ref_feats[i, :])**2)\n",
        "    if error < min_error:\n",
        "      min_error = error\n",
        "      min_i = i\n",
        "  return min_i"
      ],
      "metadata": {
        "id": "PToRTYovAB6r"
      },
      "execution_count": null,
      "outputs": []
    },
    {
      "cell_type": "code",
      "source": [
        "# Calculate the power diagram of the corresponding kernel after normalisation\n",
        "def power(image, kernel):\n",
        "# Normalisation of images for better comparison\n",
        "  image = (image - image.mean()) / image.std()\n",
        "  return np.sqrt(ndi.convolve(image, np.real(kernel), mode='wrap')**2 + ndi.convolve(image, np.imag(kernel), mode='wrap')**2)"
      ],
      "metadata": {
        "id": "fO6Ty7yiA50w"
      },
      "execution_count": null,
      "outputs": []
    },
    {
      "cell_type": "code",
      "source": [
        "##Drawing filters and diagrams\n",
        "\n",
        "results = []\n",
        "kernel_params = []\n",
        "filters = []\n",
        "'''\n",
        "for theta in (0, 1):\n",
        "  theta = theta / 4. * np.pi\n",
        "  for frequency in (0.1, 0.4):\n",
        "    kernel = gabor_kernel(frequency, theta=theta)\n",
        "    '''\n",
        "ksize = [7,9,11,13] \n",
        "lamda = np.pi/2.0         \n",
        "for K in range(4):\n",
        "\n",
        "  #print(theta)\n",
        "  for theta in np.arange(0, np.pi+0.1, np.pi / 5): # orientation，0°，36°，72°，108°，144°，180°\n",
        "    kern = getFilter(ksize[K], theta)\n",
        "    kern /= 1.5*kern.sum()\n",
        "    \n",
        "    params = 'theta=%d,\\néchelle=%.2f' % (theta * 180 / np.pi, ksize[K])#核的标题\n",
        "    kernel_params.append(params)\n",
        "  \n",
        "# Save the kernel and power images for each image\n",
        "    filters.append(kern)\n",
        "    results.append(power(covid, kern))\n",
        "    #results.append((kern, power(covid, kern)))\n",
        "\n",
        "kernels = filters\n",
        "def compute_feats(image, kernels):#Calculating the characteristic function\n",
        "  feats = np.zeros((len(kernels), 2), dtype=np.double)\n",
        "  for k, kernel in enumerate(kernels):\n",
        "    filtered = ndi.convolve(image, kernel, mode='wrap')\n",
        "    feats[k, 0] = filtered.mean()\n",
        "    feats[k, 1] = filtered.var()\n",
        "  return feats\n",
        "#PreparationReferenceFeatures\n",
        "ref_feats = np.zeros((1, len(kernels), 2), dtype=np.double)\n",
        "ref_feats[0, :, :] = compute_feats(covid, kernels)\n",
        "#ref_feats[1, :, :] = compute_feats(grass, kernels)\n",
        "#ref_feats[2, :, :] = compute_feats(gravel, kernels)\n",
        "\n",
        "#print('Rotated images matched against references using Gabor filter banks:')\n",
        "\n",
        "#print('original: covid, rotated: 30deg, match result: ', end='')\n",
        "feats = compute_feats(ndi.rotate(covid, angle=30, reshape=False), kernels)\n",
        "#print(image_names[match(feats, ref_feats)])"
      ],
      "metadata": {
        "id": "FZB-JUlNgH7r"
      },
      "execution_count": null,
      "outputs": []
    },
    {
      "cell_type": "code",
      "source": [
        "print(len(results)) #24\n",
        "print(len(kernel_params))\n",
        "for temp in range(len(results)):\n",
        "  plt.subplot(6, 4, temp + 1)\n",
        "  plt.imshow(results[temp])\n",
        "plt.show()"
      ],
      "metadata": {
        "id": "UTr3lMAuBBjN"
      },
      "execution_count": null,
      "outputs": []
    },
    {
      "cell_type": "code",
      "source": [
        "\n",
        "fig, axes = plt.subplots(nrows=4, ncols=6, figsize=(16, 16))\n",
        "plt.gray()\n",
        "fig.suptitle('Image responses for Gabor filter kernels', fontsize=12)\n",
        "\n",
        "#axes[0][0].axis('off')\n",
        "\n",
        "col_names= (7, 9, 11, 13) # j\n",
        "row_names= ( 0, 36, 72, 108, 144, 180) # i \n",
        "\n",
        "for i in range(4):\n",
        "  for j in range(6):\n",
        "    vmin = np.min(results)\n",
        "    vmax = np.max(results)\n",
        "    params = 'theta=%d,\\néchelle=%.2f' % (row_names[j],col_names[i])#核的标题\n",
        "    #kernel_params.append(params)\n",
        "    \n",
        "    axes[i][j].imshow(results[i*j],cmap = 'gray') #vmin=vmin, vmax=vmax \n",
        "    axes[i][j].set_title(params, fontsize=9)\n",
        "    #axes[i][j].axis('off')"
      ],
      "metadata": {
        "id": "LD1Iq0xyBE1Y"
      },
      "execution_count": null,
      "outputs": []
    },
    {
      "cell_type": "code",
      "source": [
        "print(type(results))\n",
        "print(len(results))\n",
        "\n",
        "print(results[0][0,0])\n",
        "print(results[1][0,0])\n",
        "\n",
        "for i in range(1,24):\n",
        "  print(results[i][0,0])\n",
        "  if results[i-1][0,0]<results[i][0,0]:\n",
        "    vn = i-1\n",
        "#print(vn)\n",
        "\n",
        "vals = list()\n",
        "\n",
        "for i in range(624):\n",
        "  for j in range(628):\n",
        "    for k in range(1,24):\n",
        "      if results[k-1][i,j]<=results[k][i,j]:\n",
        "        val = k-1\n",
        "    #print(val)\n",
        "    vals.append(val)\n",
        "print(len(vals))\n",
        "\n"
      ],
      "metadata": {
        "id": "YEAo3hWCBF7D"
      },
      "execution_count": null,
      "outputs": []
    },
    {
      "cell_type": "code",
      "source": [
        "vqls = np.array(vals)\n",
        "print(vqls.shape)\n",
        "vqls.reshape((624,628))\n",
        "vq = vqls.reshape((624,628))\n",
        "print(vq.shape)"
      ],
      "metadata": {
        "id": "bu_sATouBUNO"
      },
      "execution_count": null,
      "outputs": []
    },
    {
      "cell_type": "code",
      "source": [
        "## Codage binares du grays\n",
        " \n",
        "# This function generates all n bit Gray\n",
        "# codes and prints the generated codes\n",
        "def generateGrayarr(n):\n",
        " \n",
        "    # base case\n",
        "    if (n <= 0):\n",
        "        return\n",
        " \n",
        "    # 'arr' will store all generated codes\n",
        "    arr = list()\n",
        " \n",
        "    # start with one-bit pattern\n",
        "    arr.append(\"0\")\n",
        "    arr.append(\"1\")\n",
        " \n",
        "    # Every iteration of this loop generates\n",
        "    # 2*i codes from previously generated i codes.\n",
        "    i = 2\n",
        "    j = 0\n",
        "    while(True):\n",
        " \n",
        "        if i >= 1 << n:\n",
        "            break\n",
        "     \n",
        "        # Enter the previously generated codes\n",
        "        # again in arr[] in reverse order.\n",
        "        # Nor arr[] has double number of codes.\n",
        "        for j in range(i - 1, -1, -1):\n",
        "            arr.append(arr[j])\n",
        " \n",
        "        # append 0 to the first half\n",
        "        for j in range(i):\n",
        "            arr[j] = \"0\" + arr[j]\n",
        " \n",
        "        # append 1 to the second half\n",
        "        for j in range(i, 2 * i):\n",
        "            arr[j] = \"1\" + arr[j]\n",
        "        i = i << 1\n",
        " \n",
        "    # print contents of arr[]\n",
        "    for i in range(len(arr)):\n",
        "        print(arr[i])\n",
        "    return arr\n",
        " \n",
        "# Driver Code\n",
        "generateGrayarr(5)\n",
        " \n",
        "# This code is contributed\n",
        "# by Mohit kumar 29\n"
      ],
      "metadata": {
        "id": "-Yw7AAKFBVGx"
      },
      "execution_count": null,
      "outputs": []
    },
    {
      "cell_type": "code",
      "source": [
        "code = generateGrayarr(5)[0:24]\n",
        "print(type(code))\n",
        "\n",
        "cdg = np.array(code)\n",
        "#print(cdg)\n",
        "\n",
        "img = np.zeros((624,628))\n",
        "\n",
        "for i in range(624):\n",
        "  for j in range(628):\n",
        "    n = vq[i,j]\n",
        "    bi = code[n]\n",
        "    \n",
        "    img[i,j] = int(bi,2)/255\n",
        "    #print(img[i,j]) \n",
        "\n",
        "\n",
        "\n",
        "#print(img)\n",
        "plt.imshow(img, cmap = 'gray')\n",
        "plt.show()\n"
      ],
      "metadata": {
        "id": "Xhhue84cBdsg"
      },
      "execution_count": null,
      "outputs": []
    }
  ]
}